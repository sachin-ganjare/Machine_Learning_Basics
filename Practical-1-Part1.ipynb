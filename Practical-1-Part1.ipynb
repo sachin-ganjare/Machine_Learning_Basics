{
 "cells": [
  {
   "cell_type": "code",
   "execution_count": 1,
   "id": "5b35cfb8-793a-4690-be68-889e45fb8fa2",
   "metadata": {},
   "outputs": [],
   "source": [
    "'''\n",
    "Numpy-Pandas-Basic-1 includes:\n",
    "1.dictionary dataframes and series - what is column and index.\n",
    "2.basic dataframe actions-head,tail,describe\n",
    "3.import and export as dataset csv.\n",
    "4.using np functions to create a DataFrame. (np.random.rand(r,c) | arange function for index.)\n",
    "'''\n",
    "import numpy as np\n",
    "import pandas as pd"
   ]
  },
  {
   "cell_type": "code",
   "execution_count": 2,
   "id": "466cdab3-2210-4f0c-a80c-e4d023f4e7ce",
   "metadata": {},
   "outputs": [],
   "source": [
    "#1. Dictionary to DataFrame\n",
    "dict1 = {\n",
    "    \"India\":['mumbai','chennai','kolkata','jk'],\n",
    "    \"Pakistan\":['baloch','sialkot','sindh','punjab'],\n",
    "    \"Points\":[12,545,12,122]\n",
    "}\n",
    "\n",
    "df = pd.DataFrame(dict1)"
   ]
  },
  {
   "cell_type": "code",
   "execution_count": 3,
   "id": "b007aefb-e537-4012-b4a5-a54f2647380f",
   "metadata": {},
   "outputs": [
    {
     "data": {
      "text/html": [
       "<div>\n",
       "<style scoped>\n",
       "    .dataframe tbody tr th:only-of-type {\n",
       "        vertical-align: middle;\n",
       "    }\n",
       "\n",
       "    .dataframe tbody tr th {\n",
       "        vertical-align: top;\n",
       "    }\n",
       "\n",
       "    .dataframe thead th {\n",
       "        text-align: right;\n",
       "    }\n",
       "</style>\n",
       "<table border=\"1\" class=\"dataframe\">\n",
       "  <thead>\n",
       "    <tr style=\"text-align: right;\">\n",
       "      <th></th>\n",
       "      <th>India</th>\n",
       "      <th>Pakistan</th>\n",
       "      <th>Points</th>\n",
       "    </tr>\n",
       "  </thead>\n",
       "  <tbody>\n",
       "    <tr>\n",
       "      <th>0</th>\n",
       "      <td>mumbai</td>\n",
       "      <td>baloch</td>\n",
       "      <td>12</td>\n",
       "    </tr>\n",
       "    <tr>\n",
       "      <th>1</th>\n",
       "      <td>chennai</td>\n",
       "      <td>sialkot</td>\n",
       "      <td>545</td>\n",
       "    </tr>\n",
       "    <tr>\n",
       "      <th>2</th>\n",
       "      <td>kolkata</td>\n",
       "      <td>sindh</td>\n",
       "      <td>12</td>\n",
       "    </tr>\n",
       "    <tr>\n",
       "      <th>3</th>\n",
       "      <td>jk</td>\n",
       "      <td>punjab</td>\n",
       "      <td>122</td>\n",
       "    </tr>\n",
       "  </tbody>\n",
       "</table>\n",
       "</div>"
      ],
      "text/plain": [
       "     India Pakistan  Points\n",
       "0   mumbai   baloch      12\n",
       "1  chennai  sialkot     545\n",
       "2  kolkata    sindh      12\n",
       "3       jk   punjab     122"
      ]
     },
     "execution_count": 3,
     "metadata": {},
     "output_type": "execute_result"
    }
   ],
   "source": [
    "df"
   ]
  },
  {
   "cell_type": "code",
   "execution_count": 4,
   "id": "185dac0d-5fa2-4003-adef-f14565d3bc72",
   "metadata": {},
   "outputs": [],
   "source": [
    "# Creating a Series (Combination of Series Creates a DataFrame)\n",
    "ser= pd.Series(np.random.rand(5))"
   ]
  },
  {
   "cell_type": "code",
   "execution_count": 5,
   "id": "61e79f8b-1b72-4308-92e7-b19e1889d1db",
   "metadata": {},
   "outputs": [
    {
     "data": {
      "text/plain": [
       "0    0.477057\n",
       "1    0.248305\n",
       "2    0.865433\n",
       "3    0.868382\n",
       "4    0.427696\n",
       "dtype: float64"
      ]
     },
     "execution_count": 5,
     "metadata": {},
     "output_type": "execute_result"
    }
   ],
   "source": [
    "ser\n"
   ]
  },
  {
   "cell_type": "code",
   "execution_count": 6,
   "id": "2ed51540-eba0-409f-b968-f080941b3766",
   "metadata": {},
   "outputs": [
    {
     "data": {
      "text/html": [
       "<div>\n",
       "<style scoped>\n",
       "    .dataframe tbody tr th:only-of-type {\n",
       "        vertical-align: middle;\n",
       "    }\n",
       "\n",
       "    .dataframe tbody tr th {\n",
       "        vertical-align: top;\n",
       "    }\n",
       "\n",
       "    .dataframe thead th {\n",
       "        text-align: right;\n",
       "    }\n",
       "</style>\n",
       "<table border=\"1\" class=\"dataframe\">\n",
       "  <thead>\n",
       "    <tr style=\"text-align: right;\">\n",
       "      <th></th>\n",
       "      <th>India</th>\n",
       "      <th>Pakistan</th>\n",
       "      <th>Points</th>\n",
       "    </tr>\n",
       "  </thead>\n",
       "  <tbody>\n",
       "    <tr>\n",
       "      <th>0</th>\n",
       "      <td>mumbai</td>\n",
       "      <td>baloch</td>\n",
       "      <td>12</td>\n",
       "    </tr>\n",
       "    <tr>\n",
       "      <th>1</th>\n",
       "      <td>chennai</td>\n",
       "      <td>sialkot</td>\n",
       "      <td>545</td>\n",
       "    </tr>\n",
       "  </tbody>\n",
       "</table>\n",
       "</div>"
      ],
      "text/plain": [
       "     India Pakistan  Points\n",
       "0   mumbai   baloch      12\n",
       "1  chennai  sialkot     545"
      ]
     },
     "execution_count": 6,
     "metadata": {},
     "output_type": "execute_result"
    }
   ],
   "source": [
    "#2. Basic DataFrame Functions\n",
    "df.head(2)"
   ]
  },
  {
   "cell_type": "code",
   "execution_count": 7,
   "id": "005ef6e3-b3be-422a-9cc6-39e9fd26d413",
   "metadata": {},
   "outputs": [
    {
     "data": {
      "text/html": [
       "<div>\n",
       "<style scoped>\n",
       "    .dataframe tbody tr th:only-of-type {\n",
       "        vertical-align: middle;\n",
       "    }\n",
       "\n",
       "    .dataframe tbody tr th {\n",
       "        vertical-align: top;\n",
       "    }\n",
       "\n",
       "    .dataframe thead th {\n",
       "        text-align: right;\n",
       "    }\n",
       "</style>\n",
       "<table border=\"1\" class=\"dataframe\">\n",
       "  <thead>\n",
       "    <tr style=\"text-align: right;\">\n",
       "      <th></th>\n",
       "      <th>India</th>\n",
       "      <th>Pakistan</th>\n",
       "      <th>Points</th>\n",
       "    </tr>\n",
       "  </thead>\n",
       "  <tbody>\n",
       "    <tr>\n",
       "      <th>1</th>\n",
       "      <td>chennai</td>\n",
       "      <td>sialkot</td>\n",
       "      <td>545</td>\n",
       "    </tr>\n",
       "    <tr>\n",
       "      <th>2</th>\n",
       "      <td>kolkata</td>\n",
       "      <td>sindh</td>\n",
       "      <td>12</td>\n",
       "    </tr>\n",
       "    <tr>\n",
       "      <th>3</th>\n",
       "      <td>jk</td>\n",
       "      <td>punjab</td>\n",
       "      <td>122</td>\n",
       "    </tr>\n",
       "  </tbody>\n",
       "</table>\n",
       "</div>"
      ],
      "text/plain": [
       "     India Pakistan  Points\n",
       "1  chennai  sialkot     545\n",
       "2  kolkata    sindh      12\n",
       "3       jk   punjab     122"
      ]
     },
     "execution_count": 7,
     "metadata": {},
     "output_type": "execute_result"
    }
   ],
   "source": [
    "df.tail(3)"
   ]
  },
  {
   "cell_type": "code",
   "execution_count": 8,
   "id": "57d3af00-d4e9-4e8b-b94f-07573de46467",
   "metadata": {},
   "outputs": [
    {
     "data": {
      "text/html": [
       "<div>\n",
       "<style scoped>\n",
       "    .dataframe tbody tr th:only-of-type {\n",
       "        vertical-align: middle;\n",
       "    }\n",
       "\n",
       "    .dataframe tbody tr th {\n",
       "        vertical-align: top;\n",
       "    }\n",
       "\n",
       "    .dataframe thead th {\n",
       "        text-align: right;\n",
       "    }\n",
       "</style>\n",
       "<table border=\"1\" class=\"dataframe\">\n",
       "  <thead>\n",
       "    <tr style=\"text-align: right;\">\n",
       "      <th></th>\n",
       "      <th>Points</th>\n",
       "    </tr>\n",
       "  </thead>\n",
       "  <tbody>\n",
       "    <tr>\n",
       "      <th>count</th>\n",
       "      <td>4.000000</td>\n",
       "    </tr>\n",
       "    <tr>\n",
       "      <th>mean</th>\n",
       "      <td>172.750000</td>\n",
       "    </tr>\n",
       "    <tr>\n",
       "      <th>std</th>\n",
       "      <td>253.526297</td>\n",
       "    </tr>\n",
       "    <tr>\n",
       "      <th>min</th>\n",
       "      <td>12.000000</td>\n",
       "    </tr>\n",
       "    <tr>\n",
       "      <th>25%</th>\n",
       "      <td>12.000000</td>\n",
       "    </tr>\n",
       "    <tr>\n",
       "      <th>50%</th>\n",
       "      <td>67.000000</td>\n",
       "    </tr>\n",
       "    <tr>\n",
       "      <th>75%</th>\n",
       "      <td>227.750000</td>\n",
       "    </tr>\n",
       "    <tr>\n",
       "      <th>max</th>\n",
       "      <td>545.000000</td>\n",
       "    </tr>\n",
       "  </tbody>\n",
       "</table>\n",
       "</div>"
      ],
      "text/plain": [
       "           Points\n",
       "count    4.000000\n",
       "mean   172.750000\n",
       "std    253.526297\n",
       "min     12.000000\n",
       "25%     12.000000\n",
       "50%     67.000000\n",
       "75%    227.750000\n",
       "max    545.000000"
      ]
     },
     "execution_count": 8,
     "metadata": {},
     "output_type": "execute_result"
    }
   ],
   "source": [
    "df.describe()"
   ]
  },
  {
   "cell_type": "code",
   "execution_count": 9,
   "id": "9bcfb82d-4b76-4339-b281-13784003db5b",
   "metadata": {},
   "outputs": [],
   "source": [
    "#3. Export to and Import from CSV\n",
    "df.to_csv('exported.csv',index=0)"
   ]
  },
  {
   "cell_type": "code",
   "execution_count": 10,
   "id": "ec994f2f-b487-467a-ac5a-82f5e9de3a9b",
   "metadata": {},
   "outputs": [],
   "source": [
    "imported_df = pd.read_csv('imported.csv')"
   ]
  },
  {
   "cell_type": "code",
   "execution_count": 11,
   "id": "35acc3f4-33b6-4f08-a7ed-8ac90be21cff",
   "metadata": {},
   "outputs": [
    {
     "data": {
      "text/html": [
       "<div>\n",
       "<style scoped>\n",
       "    .dataframe tbody tr th:only-of-type {\n",
       "        vertical-align: middle;\n",
       "    }\n",
       "\n",
       "    .dataframe tbody tr th {\n",
       "        vertical-align: top;\n",
       "    }\n",
       "\n",
       "    .dataframe thead th {\n",
       "        text-align: right;\n",
       "    }\n",
       "</style>\n",
       "<table border=\"1\" class=\"dataframe\">\n",
       "  <thead>\n",
       "    <tr style=\"text-align: right;\">\n",
       "      <th></th>\n",
       "      <th>UK</th>\n",
       "      <th>Netherlands</th>\n",
       "      <th>Points</th>\n",
       "    </tr>\n",
       "  </thead>\n",
       "  <tbody>\n",
       "    <tr>\n",
       "      <th>0</th>\n",
       "      <td>bermuda</td>\n",
       "      <td>drenthe</td>\n",
       "      <td>56</td>\n",
       "    </tr>\n",
       "    <tr>\n",
       "      <th>1</th>\n",
       "      <td>london</td>\n",
       "      <td>flevoland</td>\n",
       "      <td>45</td>\n",
       "    </tr>\n",
       "    <tr>\n",
       "      <th>2</th>\n",
       "      <td>cayman islands</td>\n",
       "      <td>limburg</td>\n",
       "      <td>1322</td>\n",
       "    </tr>\n",
       "    <tr>\n",
       "      <th>3</th>\n",
       "      <td>scotland</td>\n",
       "      <td>holland</td>\n",
       "      <td>135</td>\n",
       "    </tr>\n",
       "  </tbody>\n",
       "</table>\n",
       "</div>"
      ],
      "text/plain": [
       "               UK Netherlands  Points\n",
       "0         bermuda     drenthe      56\n",
       "1          london   flevoland      45\n",
       "2  cayman islands     limburg    1322\n",
       "3        scotland     holland     135"
      ]
     },
     "execution_count": 11,
     "metadata": {},
     "output_type": "execute_result"
    }
   ],
   "source": [
    "imported_df"
   ]
  },
  {
   "cell_type": "code",
   "execution_count": 12,
   "id": "3124f982-76f6-4b3f-a217-ce7cf91f215d",
   "metadata": {},
   "outputs": [
    {
     "data": {
      "text/html": [
       "<div>\n",
       "<style scoped>\n",
       "    .dataframe tbody tr th:only-of-type {\n",
       "        vertical-align: middle;\n",
       "    }\n",
       "\n",
       "    .dataframe tbody tr th {\n",
       "        vertical-align: top;\n",
       "    }\n",
       "\n",
       "    .dataframe thead th {\n",
       "        text-align: right;\n",
       "    }\n",
       "</style>\n",
       "<table border=\"1\" class=\"dataframe\">\n",
       "  <thead>\n",
       "    <tr style=\"text-align: right;\">\n",
       "      <th></th>\n",
       "      <th>UK</th>\n",
       "      <th>Netherlands</th>\n",
       "      <th>Points</th>\n",
       "    </tr>\n",
       "  </thead>\n",
       "  <tbody>\n",
       "    <tr>\n",
       "      <th>0</th>\n",
       "      <td>bermuda</td>\n",
       "      <td>drenthe</td>\n",
       "      <td>56</td>\n",
       "    </tr>\n",
       "    <tr>\n",
       "      <th>1</th>\n",
       "      <td>london</td>\n",
       "      <td>flevoland</td>\n",
       "      <td>45</td>\n",
       "    </tr>\n",
       "    <tr>\n",
       "      <th>2</th>\n",
       "      <td>cayman islands</td>\n",
       "      <td>limburg</td>\n",
       "      <td>1322</td>\n",
       "    </tr>\n",
       "    <tr>\n",
       "      <th>3</th>\n",
       "      <td>scotland</td>\n",
       "      <td>holland</td>\n",
       "      <td>135</td>\n",
       "    </tr>\n",
       "  </tbody>\n",
       "</table>\n",
       "</div>"
      ],
      "text/plain": [
       "               UK Netherlands  Points\n",
       "0         bermuda     drenthe      56\n",
       "1          london   flevoland      45\n",
       "2  cayman islands     limburg    1322\n",
       "3        scotland     holland     135"
      ]
     },
     "execution_count": 12,
     "metadata": {},
     "output_type": "execute_result"
    }
   ],
   "source": [
    "imported_df"
   ]
  },
  {
   "cell_type": "code",
   "execution_count": 13,
   "id": "2267650f-b73c-4a9e-ab40-8804c042ccb7",
   "metadata": {},
   "outputs": [
    {
     "data": {
      "text/plain": [
       "'drenthe'"
      ]
     },
     "execution_count": 13,
     "metadata": {},
     "output_type": "execute_result"
    }
   ],
   "source": [
    "imported_df['Netherlands'][0]"
   ]
  },
  {
   "cell_type": "code",
   "execution_count": 14,
   "id": "ca82e74b-4531-4c27-892a-076376b89a36",
   "metadata": {},
   "outputs": [],
   "source": [
    "# 4. Creating a New DataFrame by Using Functions of Numpy Library.\n",
    "new_df=pd.DataFrame(np.random.rand(5,5),index=np.arange(5),columns=np.arange(5))"
   ]
  },
  {
   "cell_type": "code",
   "execution_count": 15,
   "id": "8c41c835-b663-415a-bb81-89b51451bacc",
   "metadata": {},
   "outputs": [
    {
     "data": {
      "text/html": [
       "<div>\n",
       "<style scoped>\n",
       "    .dataframe tbody tr th:only-of-type {\n",
       "        vertical-align: middle;\n",
       "    }\n",
       "\n",
       "    .dataframe tbody tr th {\n",
       "        vertical-align: top;\n",
       "    }\n",
       "\n",
       "    .dataframe thead th {\n",
       "        text-align: right;\n",
       "    }\n",
       "</style>\n",
       "<table border=\"1\" class=\"dataframe\">\n",
       "  <thead>\n",
       "    <tr style=\"text-align: right;\">\n",
       "      <th></th>\n",
       "      <th>0</th>\n",
       "      <th>1</th>\n",
       "      <th>2</th>\n",
       "      <th>3</th>\n",
       "      <th>4</th>\n",
       "    </tr>\n",
       "  </thead>\n",
       "  <tbody>\n",
       "    <tr>\n",
       "      <th>0</th>\n",
       "      <td>0.478893</td>\n",
       "      <td>0.325535</td>\n",
       "      <td>0.150960</td>\n",
       "      <td>0.429771</td>\n",
       "      <td>0.874719</td>\n",
       "    </tr>\n",
       "    <tr>\n",
       "      <th>1</th>\n",
       "      <td>0.909056</td>\n",
       "      <td>0.202683</td>\n",
       "      <td>0.267004</td>\n",
       "      <td>0.726947</td>\n",
       "      <td>0.528752</td>\n",
       "    </tr>\n",
       "    <tr>\n",
       "      <th>2</th>\n",
       "      <td>0.322416</td>\n",
       "      <td>0.302756</td>\n",
       "      <td>0.154624</td>\n",
       "      <td>0.343923</td>\n",
       "      <td>0.884472</td>\n",
       "    </tr>\n",
       "    <tr>\n",
       "      <th>3</th>\n",
       "      <td>0.523486</td>\n",
       "      <td>0.888582</td>\n",
       "      <td>0.954792</td>\n",
       "      <td>0.342540</td>\n",
       "      <td>0.781197</td>\n",
       "    </tr>\n",
       "    <tr>\n",
       "      <th>4</th>\n",
       "      <td>0.590453</td>\n",
       "      <td>0.851489</td>\n",
       "      <td>0.740074</td>\n",
       "      <td>0.575739</td>\n",
       "      <td>0.365720</td>\n",
       "    </tr>\n",
       "  </tbody>\n",
       "</table>\n",
       "</div>"
      ],
      "text/plain": [
       "          0         1         2         3         4\n",
       "0  0.478893  0.325535  0.150960  0.429771  0.874719\n",
       "1  0.909056  0.202683  0.267004  0.726947  0.528752\n",
       "2  0.322416  0.302756  0.154624  0.343923  0.884472\n",
       "3  0.523486  0.888582  0.954792  0.342540  0.781197\n",
       "4  0.590453  0.851489  0.740074  0.575739  0.365720"
      ]
     },
     "execution_count": 15,
     "metadata": {},
     "output_type": "execute_result"
    }
   ],
   "source": [
    "new_df"
   ]
  },
  {
   "cell_type": "code",
   "execution_count": null,
   "id": "32cfcd6d-327a-480a-be3e-4bd94a54968b",
   "metadata": {},
   "outputs": [],
   "source": []
  }
 ],
 "metadata": {
  "kernelspec": {
   "display_name": "Python 3",
   "language": "python",
   "name": "python3"
  },
  "language_info": {
   "codemirror_mode": {
    "name": "ipython",
    "version": 3
   },
   "file_extension": ".py",
   "mimetype": "text/x-python",
   "name": "python",
   "nbconvert_exporter": "python",
   "pygments_lexer": "ipython3",
   "version": "3.13.1"
  }
 },
 "nbformat": 4,
 "nbformat_minor": 5
}
